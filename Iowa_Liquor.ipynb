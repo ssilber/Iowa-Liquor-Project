{
 "cells": [
  {
   "cell_type": "markdown",
   "metadata": {},
   "source": [
    "# Iowa Liquor Project"
   ]
  },
  {
   "cell_type": "markdown",
   "metadata": {},
   "source": [
    "We want to predict 2016 liquor sales in the state of Iowa using state provided liquor store sales data from 2015. Using this data, we want to identify trends in sales volume and profits by store to accurately predict these trends in 2016."
   ]
  },
  {
   "cell_type": "markdown",
   "metadata": {},
   "source": [
    "### Libraries"
   ]
  },
  {
   "cell_type": "code",
   "execution_count": 158,
   "metadata": {
    "collapsed": true
   },
   "outputs": [],
   "source": [
    "import pandas as pd\n",
    "import numpy as np\n",
    "import matplotlib.pyplot as plt\n",
    "import seaborn as sns\n",
    "\n",
    "%matplotlib inline"
   ]
  },
  {
   "cell_type": "markdown",
   "metadata": {},
   "source": [
    "### Import and clean data"
   ]
  },
  {
   "cell_type": "code",
   "execution_count": 116,
   "metadata": {},
   "outputs": [
    {
     "data": {
      "text/plain": [
       "Index([u'Date', u'Store Number', u'City', u'Zip Code', u'County Number',\n",
       "       u'County', u'Category', u'Category Name', u'Vendor Number',\n",
       "       u'Item Number', u'Item Description', u'Bottle Volume (ml)',\n",
       "       u'State Bottle Cost', u'State Bottle Retail', u'Bottles Sold',\n",
       "       u'Sale (Dollars)', u'Volume Sold (Liters)', u'Volume Sold (Gallons)'],\n",
       "      dtype='object')"
      ]
     },
     "execution_count": 116,
     "metadata": {},
     "output_type": "execute_result"
    }
   ],
   "source": [
    "# Import, convert 'Date' col to datetime\n",
    "liquor=pd.read_csv('../Assets/Iowa_Liquor_sample.csv',parse_dates=['Date'],infer_datetime_format=True)\n",
    "liquor.columns"
   ]
  },
  {
   "cell_type": "code",
   "execution_count": 117,
   "metadata": {
    "collapsed": true
   },
   "outputs": [],
   "source": [
    "# format column names\n",
    "import re\n",
    "\n",
    "liquor.columns = [re.sub(\"[^a-zA-Z]+\", \"\", x) for x in liquor.columns]"
   ]
  },
  {
   "cell_type": "code",
   "execution_count": 118,
   "metadata": {},
   "outputs": [],
   "source": [
    "# remove '$' in values and convert to numeric\n",
    "adjust_cols = ['StateBottleCost','StateBottleRetail','SaleDollars']\n",
    "\n",
    "for col in adjust_cols:\n",
    "    liquor[col] = pd.to_numeric(liquor[col].str.replace('$',''),errors='coerce')"
   ]
  },
  {
   "cell_type": "code",
   "execution_count": 119,
   "metadata": {
    "collapsed": true
   },
   "outputs": [],
   "source": [
    "# drop null values\n",
    "liquor = liquor.dropna()"
   ]
  },
  {
   "cell_type": "markdown",
   "metadata": {},
   "source": [
    "### Split Data to Create a features and targets\n",
    "\n",
    "To make predictions, we need two sets of data:\n",
    "* Total full-year  sales for each store in 2015 (our target / y)\n",
    "* Data from Q1 2015 (will become our features / X)\n"
   ]
  },
  {
   "cell_type": "code",
   "execution_count": 120,
   "metadata": {
    "collapsed": true
   },
   "outputs": [],
   "source": [
    "# Filter to only 2015\n",
    "liquor2015 = liquor[liquor.Date.dt.year==2015]\n",
    "\n",
    "# Calculate the sum of sales for each store in 2015 by grouping the full year data\n",
    "liquor2015_fy = liquor2015[[\"StoreNumber\", \"SaleDollars\"]]\n",
    "liquor2015_fy = liquor2015_fy.groupby(\"StoreNumber\", as_index=False).sum()\n",
    "\n",
    "# Filter to just Q1 data: \n",
    "liquor2015_q1 = liquor2015[liquor2015.Date.dt.quarter==1]"
   ]
  },
  {
   "cell_type": "markdown",
   "metadata": {},
   "source": [
    "### Feature Engineering and Selection\n",
    "\n"
   ]
  },
  {
   "cell_type": "code",
   "execution_count": 121,
   "metadata": {},
   "outputs": [
    {
     "name": "stderr",
     "output_type": "stream",
     "text": [
      "/Users/samuelasilber/anaconda2/lib/python2.7/site-packages/ipykernel_launcher.py:2: SettingWithCopyWarning: \n",
      "A value is trying to be set on a copy of a slice from a DataFrame.\n",
      "Try using .loc[row_indexer,col_indexer] = value instead\n",
      "\n",
      "See the caveats in the documentation: http://pandas.pydata.org/pandas-docs/stable/indexing.html#indexing-view-versus-copy\n",
      "  \n"
     ]
    }
   ],
   "source": [
    "#Create profit variable\n",
    "liquor2015_q1[\"profit\"] = liquor2015_q1.StateBottleRetail - liquor2015_q1.StateBottleCost\n",
    "\n",
    "#Group by StoreNumber\n",
    "group = liquor2015_q1.groupby([\"StoreNumber\"], as_index=False)[\"SaleDollars\", \"VolumeSoldLiters\", \"profit\"].agg([\"sum\", \"mean\"])\n",
    "\n",
    "#Collapse and rename variables\n",
    "group.columns = ['_'.join(var).strip() for var in group.columns.values]\n",
    "group.columns = [var + \"_q1\" for var in group.columns.values]\n",
    "group.reset_index(inplace=True)\n",
    "\n",
    "# Dataframe of Q1 features\n",
    "liquor2015_q1_features = group[[\"StoreNumber\", \"SaleDollars_sum_q1\", \"VolumeSoldLiters_mean_q1\", \"profit_mean_q1\"]]\n",
    "\n",
    "# Combine Q1 Features with Full Year Target\n",
    "liquor2015_combined = liquor2015_fy.merge(liquor2015_q1_features, on=\"StoreNumber\")"
   ]
  },
  {
   "cell_type": "markdown",
   "metadata": {},
   "source": [
    "### Cross Validation\n"
   ]
  },
  {
   "cell_type": "code",
   "execution_count": 122,
   "metadata": {
    "collapsed": true
   },
   "outputs": [],
   "source": [
    "# Step 1: Hold Out / Testing Data\n",
    "from sklearn.model_selection import train_test_split\n",
    "training_data,holdout = train_test_split(liquor2015_combined,shuffle=True,test_size=0.10,random_state=123)"
   ]
  },
  {
   "cell_type": "code",
   "execution_count": 123,
   "metadata": {},
   "outputs": [],
   "source": [
    "# Step 2: Kfolds\n",
    "from sklearn.cross_validation import KFold\n",
    "\n",
    "# Number of folds\n",
    "folds = 10\n",
    "\n",
    "# Number of rows in dataframe\n",
    "n = training_data.shape[0]\n",
    "\n",
    "kf = KFold(n, n_folds=folds, random_state=123)"
   ]
  },
  {
   "cell_type": "markdown",
   "metadata": {},
   "source": [
    "### Model Building - Linear Regression"
   ]
  },
  {
   "cell_type": "code",
   "execution_count": 124,
   "metadata": {
    "collapsed": true
   },
   "outputs": [],
   "source": [
    "from sklearn.linear_model import LinearRegression\n",
    "from sklearn.metrics import mean_absolute_error,mean_squared_error,r2_score\n",
    "import numpy as np\n",
    "\n",
    "#select feature column names\n",
    "feature_cols = [\"SaleDollars_sum_q1\", \"VolumeSoldLiters_mean_q1\", \"profit_mean_q1\"]\n",
    "\n",
    "# define X (features) and y (target)\n",
    "X = training_data[feature_cols]\n",
    "y = training_data[\"SaleDollars\"]\n",
    "\n",
    "#Instantiate model\n",
    "lr = LinearRegression()"
   ]
  },
  {
   "cell_type": "code",
   "execution_count": 125,
   "metadata": {},
   "outputs": [
    {
     "name": "stdout",
     "output_type": "stream",
     "text": [
      "Fold 1\n",
      "MSE: 48445987.1413\n",
      "MAE: 3847.70747734\n",
      "RMSE: 6960.31516106\n",
      "R2: 0.95302609913\n",
      "Fold 2\n",
      "MSE: 96599875.9206\n",
      "MAE: 4123.10196907\n",
      "RMSE: 9828.52358803\n",
      "R2: 0.948387610421\n",
      "Fold 3\n",
      "MSE: 71712122.5311\n",
      "MAE: 4363.87089146\n",
      "RMSE: 8468.30104159\n",
      "R2: 0.860289204396\n",
      "Fold 4\n",
      "MSE: 69785579.4325\n",
      "MAE: 4234.28833635\n",
      "RMSE: 8353.77635758\n",
      "R2: 0.969394544878\n",
      "Fold 5\n",
      "MSE: 53993998.1235\n",
      "MAE: 3706.09616271\n",
      "RMSE: 7348.06084103\n",
      "R2: 0.933555915278\n",
      "Fold 6\n",
      "MSE: 211994982.106\n",
      "MAE: 6761.29974709\n",
      "RMSE: 14560.0474623\n",
      "R2: 0.977240604611\n",
      "Fold 7\n",
      "MSE: 222607077.95\n",
      "MAE: 5311.10930855\n",
      "RMSE: 14920.0227195\n",
      "R2: 0.976538172207\n",
      "Fold 8\n",
      "MSE: 55211711.2276\n",
      "MAE: 4602.22039444\n",
      "RMSE: 7430.45834573\n",
      "R2: 0.906605374091\n",
      "Fold 9\n",
      "MSE: 169000882.658\n",
      "MAE: 5069.33464169\n",
      "RMSE: 13000.0339483\n",
      "R2: 0.838532137585\n",
      "Fold 10\n",
      "MSE: 108472719.121\n",
      "MAE: 5533.03319175\n",
      "RMSE: 10415.0237216\n",
      "R2: 0.924853674532\n"
     ]
    }
   ],
   "source": [
    "# Use K-Folds cross validation to train model\n",
    "# Create a blank list to store fold scores\n",
    "MSE_scores = []\n",
    "MAE_scores = []\n",
    "RMSE_scores = []\n",
    "R2_scores = []\n",
    "n = 1\n",
    "\n",
    "for train,test in kf:\n",
    "    # Set up training and testing sets\n",
    "    x_train = X.iloc[train]\n",
    "    x_test = X.iloc[test]\n",
    "    \n",
    "    y_train = y.iloc[train]\n",
    "    y_true = y.iloc[test]\n",
    "    \n",
    "    # Fit model on training x and training y\n",
    "    lr.fit(x_train,y_train)\n",
    "    \n",
    "    # Make Predictions\n",
    "    y_preds = lr.predict(x_test)\n",
    "\n",
    "    # Score predictions vs. true values using a variety of metrics\n",
    "    MSE_score = mean_squared_error(y_true, y_preds)\n",
    "    MAE_score = mean_absolute_error(y_true, y_preds)\n",
    "    RMSE_score = np.sqrt(mean_squared_error(y_true, y_preds))\n",
    "    R2_score = r2_score(y_true, y_preds)\n",
    "    \n",
    "    # Append scores \n",
    "    MSE_scores.append(MSE_score)\n",
    "    MAE_scores.append(MAE_score)\n",
    "    RMSE_scores.append(RMSE_score)\n",
    "    R2_scores.append(R2_score)\n",
    "    \n",
    "    print \"Fold\", n \n",
    "    print \"MSE:\", MSE_score    \n",
    "    print \"MAE:\", MAE_score\n",
    "    print \"RMSE:\", RMSE_score\n",
    "    print \"R2:\", R2_score\n",
    "    n +=1"
   ]
  },
  {
   "cell_type": "code",
   "execution_count": 126,
   "metadata": {},
   "outputs": [
    {
     "name": "stdout",
     "output_type": "stream",
     "text": [
      "MSE: 110782493.621\n",
      "MAE: 4755.20621205\n",
      "RMSE: 10128.4563187\n",
      "R2: 0.928842333713\n"
     ]
    }
   ],
   "source": [
    "print \"MSE:\", np.mean(MSE_scores)\n",
    "print \"MAE:\", np.mean(MAE_scores)\n",
    "print \"RMSE:\", np.mean(RMSE_scores)\n",
    "print \"R2:\", np.mean(R2_scores)"
   ]
  },
  {
   "cell_type": "code",
   "execution_count": 127,
   "metadata": {},
   "outputs": [
    {
     "data": {
      "text/plain": [
       "[('SaleDollars_sum_q1', 4.5357313894021383),\n",
       " ('VolumeSoldLiters_mean_q1', -174.99289907997718),\n",
       " ('profit_mean_q1', 473.31706031277599)]"
      ]
     },
     "execution_count": 127,
     "metadata": {},
     "output_type": "execute_result"
    }
   ],
   "source": [
    "#Coefficients\n",
    "list(zip(feature_cols,lr.coef_))"
   ]
  },
  {
   "cell_type": "code",
   "execution_count": 128,
   "metadata": {},
   "outputs": [
    {
     "data": {
      "text/plain": [
       "-449.57616263579621"
      ]
     },
     "execution_count": 128,
     "metadata": {},
     "output_type": "execute_result"
    }
   ],
   "source": [
    "#Intercept\n",
    "lr.intercept_"
   ]
  },
  {
   "cell_type": "markdown",
   "metadata": {},
   "source": [
    "### Test against hold-out set"
   ]
  },
  {
   "cell_type": "code",
   "execution_count": 129,
   "metadata": {},
   "outputs": [
    {
     "name": "stdout",
     "output_type": "stream",
     "text": [
      "MSE: 106218031.312\n",
      "MAE: 5318.97769077\n",
      "RMSE: 10306.2132383\n",
      "R2: 0.945481457822\n"
     ]
    }
   ],
   "source": [
    "features = [\"SaleDollars_sum_q1\", \"VolumeSoldLiters_mean_q1\", \"profit_mean_q1\"]\n",
    "\n",
    "X_train = training_data[features]\n",
    "y_train = training_data[\"SaleDollars\"]\n",
    "\n",
    "x_holdout = holdout[features]\n",
    "y_holdout = holdout[\"SaleDollars\"]\n",
    "\n",
    "\n",
    "#Instantiate and train linear model\n",
    "lr = LinearRegression()\n",
    "lr.fit(X_train, y_train)\n",
    "\n",
    "# Create predictions using holdout set (x_holdout)\n",
    "holdout_preds = lr.predict(x_holdout)\n",
    "\n",
    "#Scores\n",
    "MAE_score = mean_absolute_error(y_holdout, holdout_preds)\n",
    "MSE_score = mean_squared_error(y_holdout, holdout_preds)\n",
    "RMSE_score = np.sqrt(mean_squared_error(y_holdout, holdout_preds))\n",
    "R2_score = r2_score(y_holdout, holdout_preds)\n",
    "                     \n",
    "                     \n",
    "#Print Scores\n",
    "print \"MSE:\", np.mean(MSE_score)\n",
    "print \"MAE:\", np.mean(MAE_score)\n",
    "print \"RMSE:\", np.mean(RMSE_score)\n",
    "print \"R2:\", np.mean(R2_score)"
   ]
  },
  {
   "cell_type": "code",
   "execution_count": 130,
   "metadata": {},
   "outputs": [
    {
     "data": {
      "text/plain": [
       "<matplotlib.text.Text at 0x1a169aab90>"
      ]
     },
     "execution_count": 130,
     "metadata": {},
     "output_type": "execute_result"
    },
    {
     "data": {
      "image/png": "[encoded data removed]",
      "text/plain": [
       "<matplotlib.figure.Figure at 0x1a219c6dd0>"
      ]
     },
     "metadata": {},
     "output_type": "display_data"
    }
   ],
   "source": [
    "#Regplot predictions vs observed  \n",
    "plot = sns.regplot(y_holdout, holdout_preds)\n",
    "plot.set_xlabel(\"Observed\")\n",
    "plot.set_ylabel(\"Estimated\")"
   ]
  },
  {
   "cell_type": "markdown",
   "metadata": {},
   "source": [
    "The model looks like it's predicting fairly accurately for stores that made less than $50,000 in 2015. After $50,000 the residuals are much larger and the model becomes slightly less accurate. It is obviously these larger observations that are driving up metrics like MSE/MAE/RMSE, but the overall fit looks pretty good!"
   ]
  },
  {
   "cell_type": "markdown",
   "metadata": {},
   "source": []
  },
  {
   "cell_type": "code",
   "execution_count": 131,
   "metadata": {},
   "outputs": [
    {
     "data": {
      "text/plain": [
       "<matplotlib.axes._subplots.AxesSubplot at 0x1a169a8ad0>"
      ]
     },
     "execution_count": 131,
     "metadata": {},
     "output_type": "execute_result"
    },
    {
     "data": {
      "image/png": "[encoded data removed]",
      "text/plain": [
       "<matplotlib.figure.Figure at 0x1a0d655310>"
      ]
     },
     "metadata": {},
     "output_type": "display_data"
    }
   ],
   "source": [
    "#Residuals\n",
    "residuals = [est - obs for est, obs in zip(holdout_preds, y_holdout)]\n",
    "sns.distplot(residuals)\n"
   ]
  },
  {
   "cell_type": "markdown",
   "metadata": {},
   "source": [
    "Looks like the variance (i.e., random error) of the residuals is normally distributed. This means that our assumption of normality is correct."
   ]
  },
  {
   "cell_type": "markdown",
   "metadata": {},
   "source": []
  },
  {
   "cell_type": "markdown",
   "metadata": {},
   "source": [
    "### 2016 Prediction"
   ]
  },
  {
   "cell_type": "code",
   "execution_count": 132,
   "metadata": {
    "collapsed": true
   },
   "outputs": [
    {
     "name": "stderr",
     "output_type": "stream",
     "text": [
      "/Users/samuelasilber/anaconda2/lib/python2.7/site-packages/ipykernel_launcher.py:3: UserWarning: Boolean Series key will be reindexed to match DataFrame index.\n",
      "  This is separate from the ipykernel package so we can avoid doing imports until\n"
     ]
    }
   ],
   "source": [
    "# Filter to 2016\n",
    "liquor2016_fy = liquor[liquor.Date.dt.year==2016]\n",
    "liquor2016_q1 = liquor2016[liquor.Date.dt.quarter==1]\n",
    "\n",
    "#Create profit variable\n",
    "liquor2016_q1[\"profit\"] = liquor2016_q1.StateBottleRetail - liquor2016_q1.StateBottleCost\n",
    "\n",
    "#Group by StoreNumber\n",
    "group = liquor2016_q1.groupby([\"StoreNumber\"], as_index=False)[\"SaleDollars\", \"VolumeSoldLiters\", \"profit\"].agg([\"sum\", \"mean\"])\n",
    "\n",
    "#Collapse and rename variables\n",
    "group.columns = ['_'.join(var).strip() for var in group.columns.values]\n",
    "group.columns = [var + \"_q1\" for var in group.columns.values]\n",
    "group.reset_index(inplace=True)\n",
    "\n",
    "# Dataframe of Q1 features\n",
    "liquor2016_q1_features = group[[\"StoreNumber\", \"SaleDollars_sum_q1\", \"VolumeSoldLiters_mean_q1\", \"profit_mean_q1\"]]\n",
    "\n",
    "# Combine Q1 Features with Full Year Target\n",
    "liquor2016_combined = liquor2016_fy.merge(liquor2015_q1_features, on=\"StoreNumber\")\n"
   ]
  },
  {
   "cell_type": "code",
   "execution_count": 133,
   "metadata": {},
   "outputs": [
    {
     "name": "stdout",
     "output_type": "stream",
     "text": [
      "Sales in 2016: 28316215.3004\n"
     ]
    }
   ],
   "source": [
    "# Filter to only 2016\n",
    "liquor2016 = liquor[liquor.Date.dt.year==2016]\n",
    "\n",
    "# Filter to just Q1 data: \n",
    "liquor2016_q1 = liquor2016[liquor2016.Date.dt.quarter==1]\n",
    "\n",
    "#Create profit variable\n",
    "liquor2016_q1[\"profit\"] = liquor2016_q1.StateBottleRetail - liquor2016_q1.StateBottleCost\n",
    "\n",
    "#Group by StoreNumber\n",
    "group = liquor2016_q1.groupby([\"StoreNumber\"])[\"SaleDollars\", \"VolumeSoldLiters\", \"profit\"].agg([\"sum\", \"mean\"])\n",
    "\n",
    "#Collapse and rename variables\n",
    "group.columns = ['_'.join(var).strip() for var in group.columns.values]\n",
    "group.columns = [var + \"_q1\" for var in group.columns.values]\n",
    "#group.reset_index(inplace=True)\n",
    "\n",
    "\n",
    "# #Dataframe of Q1 features\n",
    "liquor2016_q1_features = group[[\"SaleDollars_sum_q1\", \"VolumeSoldLiters_mean_q1\", \"profit_mean_q1\"]]\n",
    "\n",
    "#predict\n",
    "pred_2016 = lr.predict(liquor2016_q1_features)\n",
    "sum_2016 = pred_2016.sum()\n",
    "\n",
    "print \"Sales in 2016:\", sum_2016"
   ]
  },
  {
   "cell_type": "markdown",
   "metadata": {},
   "source": [
    "# Evaluation:"
   ]
  },
  {
   "cell_type": "markdown",
   "metadata": {},
   "source": [
    "The best set of features I found were Q1 sales, Q1 average profit, and Q1 average volume of liquor sold in liters. These features had some of the highest correlations with total Sales in dollars, and cross-validation confirmed their predictive value. I was happy with the results of the testing set, producing an average RMSE of 10128.46 and an average R-squared of 0.93.\n",
    "\n",
    "For the holdout set, the model had a higher R-squared (.95) than the average testing R-squared, though the error metrics were slightly higher across the board (RMSE of 10306.21). In this sense I'd say it performed slightly worse, only because the error metrics are those most tangible to the Iowa state tax board when projecting actual numbers for future sales.\n",
    "\n"
   ]
  }
 ],
 "metadata": {
  "kernelspec": {
   "display_name": "Python 2",
   "language": "python",
   "name": "python2"
  },
  "language_info": {
   "codemirror_mode": {
    "name": "ipython",
    "version": 2
   },
   "file_extension": ".py",
   "mimetype": "text/x-python",
   "name": "python",
   "nbconvert_exporter": "python",
   "pygments_lexer": "ipython2",
   "version": "2.7.13"
  }
 },
 "nbformat": 4,
 "nbformat_minor": 2
}
