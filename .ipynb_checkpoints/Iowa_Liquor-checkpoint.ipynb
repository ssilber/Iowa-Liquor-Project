{
 "cells": [
  {
   "cell_type": "markdown",
   "metadata": {},
   "source": [
    "# Iowa Liquor Project"
   ]
  },
  {
   "cell_type": "markdown",
   "metadata": {},
   "source": [
    "We want to predict 2016 liquor sales in the state of Iowa using state provided liquor store sales data from 2015. Using this data, we want to identify trends in sales volume and profits by store to accurately predict these trends in 2016."
   ]
  },
  {
   "cell_type": "markdown",
   "metadata": {},
   "source": [
    "### Libraries"
   ]
  },
  {
   "cell_type": "code",
   "execution_count": 1,
   "metadata": {
    "collapsed": true
   },
   "outputs": [],
   "source": [
    "import pandas as pd\n",
    "import numpy as np\n",
    "import matplotlib.pyplot as plt\n",
    "import seaborn as sns\n",
    "\n",
    "%matplotlib inline"
   ]
  },
  {
   "cell_type": "markdown",
   "metadata": {},
   "source": [
    "### Import and clean data"
   ]
  },
  {
   "cell_type": "code",
   "execution_count": 5,
   "metadata": {},
   "outputs": [
    {
     "ename": "IOError",
     "evalue": "File ../Assets/Iowa_Liquor_sample.csv does not exist",
     "output_type": "error",
     "traceback": [
      "\u001b[0;31m---------------------------------------------------------------------------\u001b[0m",
      "\u001b[0;31mIOError\u001b[0m                                   Traceback (most recent call last)",
      "\u001b[0;32m<ipython-input-5-7af5b5c4ec38>\u001b[0m in \u001b[0;36m<module>\u001b[0;34m()\u001b[0m\n\u001b[1;32m      1\u001b[0m \u001b[0;31m# Import, convert 'Date' col to datetime\u001b[0m\u001b[0;34m\u001b[0m\u001b[0;34m\u001b[0m\u001b[0m\n\u001b[0;32m----> 2\u001b[0;31m \u001b[0mliquor\u001b[0m\u001b[0;34m=\u001b[0m\u001b[0mpd\u001b[0m\u001b[0;34m.\u001b[0m\u001b[0mread_csv\u001b[0m\u001b[0;34m(\u001b[0m\u001b[0;34m'../Assets/Iowa_Liquor_sample.csv'\u001b[0m\u001b[0;34m,\u001b[0m\u001b[0mparse_dates\u001b[0m\u001b[0;34m=\u001b[0m\u001b[0;34m[\u001b[0m\u001b[0;34m'Date'\u001b[0m\u001b[0;34m]\u001b[0m\u001b[0;34m,\u001b[0m\u001b[0minfer_datetime_format\u001b[0m\u001b[0;34m=\u001b[0m\u001b[0mTrue\u001b[0m\u001b[0;34m)\u001b[0m\u001b[0;34m\u001b[0m\u001b[0m\n\u001b[0m\u001b[1;32m      3\u001b[0m \u001b[0mliquor\u001b[0m\u001b[0;34m.\u001b[0m\u001b[0mcolumns\u001b[0m\u001b[0;34m\u001b[0m\u001b[0m\n",
      "\u001b[0;32m/Users/samuelasilber/anaconda2/lib/python2.7/site-packages/pandas/io/parsers.pyc\u001b[0m in \u001b[0;36mparser_f\u001b[0;34m(filepath_or_buffer, sep, delimiter, header, names, index_col, usecols, squeeze, prefix, mangle_dupe_cols, dtype, engine, converters, true_values, false_values, skipinitialspace, skiprows, nrows, na_values, keep_default_na, na_filter, verbose, skip_blank_lines, parse_dates, infer_datetime_format, keep_date_col, date_parser, dayfirst, iterator, chunksize, compression, thousands, decimal, lineterminator, quotechar, quoting, escapechar, comment, encoding, dialect, tupleize_cols, error_bad_lines, warn_bad_lines, skipfooter, skip_footer, doublequote, delim_whitespace, as_recarray, compact_ints, use_unsigned, low_memory, buffer_lines, memory_map, float_precision)\u001b[0m\n\u001b[1;32m    653\u001b[0m                     skip_blank_lines=skip_blank_lines)\n\u001b[1;32m    654\u001b[0m \u001b[0;34m\u001b[0m\u001b[0m\n\u001b[0;32m--> 655\u001b[0;31m         \u001b[0;32mreturn\u001b[0m \u001b[0m_read\u001b[0m\u001b[0;34m(\u001b[0m\u001b[0mfilepath_or_buffer\u001b[0m\u001b[0;34m,\u001b[0m \u001b[0mkwds\u001b[0m\u001b[0;34m)\u001b[0m\u001b[0;34m\u001b[0m\u001b[0m\n\u001b[0m\u001b[1;32m    656\u001b[0m \u001b[0;34m\u001b[0m\u001b[0m\n\u001b[1;32m    657\u001b[0m     \u001b[0mparser_f\u001b[0m\u001b[0;34m.\u001b[0m\u001b[0m__name__\u001b[0m \u001b[0;34m=\u001b[0m \u001b[0mname\u001b[0m\u001b[0;34m\u001b[0m\u001b[0m\n",
      "\u001b[0;32m/Users/samuelasilber/anaconda2/lib/python2.7/site-packages/pandas/io/parsers.pyc\u001b[0m in \u001b[0;36m_read\u001b[0;34m(filepath_or_buffer, kwds)\u001b[0m\n\u001b[1;32m    403\u001b[0m \u001b[0;34m\u001b[0m\u001b[0m\n\u001b[1;32m    404\u001b[0m     \u001b[0;31m# Create the parser.\u001b[0m\u001b[0;34m\u001b[0m\u001b[0;34m\u001b[0m\u001b[0m\n\u001b[0;32m--> 405\u001b[0;31m     \u001b[0mparser\u001b[0m \u001b[0;34m=\u001b[0m \u001b[0mTextFileReader\u001b[0m\u001b[0;34m(\u001b[0m\u001b[0mfilepath_or_buffer\u001b[0m\u001b[0;34m,\u001b[0m \u001b[0;34m**\u001b[0m\u001b[0mkwds\u001b[0m\u001b[0;34m)\u001b[0m\u001b[0;34m\u001b[0m\u001b[0m\n\u001b[0m\u001b[1;32m    406\u001b[0m \u001b[0;34m\u001b[0m\u001b[0m\n\u001b[1;32m    407\u001b[0m     \u001b[0;32mif\u001b[0m \u001b[0mchunksize\u001b[0m \u001b[0;32mor\u001b[0m \u001b[0miterator\u001b[0m\u001b[0;34m:\u001b[0m\u001b[0;34m\u001b[0m\u001b[0m\n",
      "\u001b[0;32m/Users/samuelasilber/anaconda2/lib/python2.7/site-packages/pandas/io/parsers.pyc\u001b[0m in \u001b[0;36m__init__\u001b[0;34m(self, f, engine, **kwds)\u001b[0m\n\u001b[1;32m    762\u001b[0m             \u001b[0mself\u001b[0m\u001b[0;34m.\u001b[0m\u001b[0moptions\u001b[0m\u001b[0;34m[\u001b[0m\u001b[0;34m'has_index_names'\u001b[0m\u001b[0;34m]\u001b[0m \u001b[0;34m=\u001b[0m \u001b[0mkwds\u001b[0m\u001b[0;34m[\u001b[0m\u001b[0;34m'has_index_names'\u001b[0m\u001b[0;34m]\u001b[0m\u001b[0;34m\u001b[0m\u001b[0m\n\u001b[1;32m    763\u001b[0m \u001b[0;34m\u001b[0m\u001b[0m\n\u001b[0;32m--> 764\u001b[0;31m         \u001b[0mself\u001b[0m\u001b[0;34m.\u001b[0m\u001b[0m_make_engine\u001b[0m\u001b[0;34m(\u001b[0m\u001b[0mself\u001b[0m\u001b[0;34m.\u001b[0m\u001b[0mengine\u001b[0m\u001b[0;34m)\u001b[0m\u001b[0;34m\u001b[0m\u001b[0m\n\u001b[0m\u001b[1;32m    765\u001b[0m \u001b[0;34m\u001b[0m\u001b[0m\n\u001b[1;32m    766\u001b[0m     \u001b[0;32mdef\u001b[0m \u001b[0mclose\u001b[0m\u001b[0;34m(\u001b[0m\u001b[0mself\u001b[0m\u001b[0;34m)\u001b[0m\u001b[0;34m:\u001b[0m\u001b[0;34m\u001b[0m\u001b[0m\n",
      "\u001b[0;32m/Users/samuelasilber/anaconda2/lib/python2.7/site-packages/pandas/io/parsers.pyc\u001b[0m in \u001b[0;36m_make_engine\u001b[0;34m(self, engine)\u001b[0m\n\u001b[1;32m    983\u001b[0m     \u001b[0;32mdef\u001b[0m \u001b[0m_make_engine\u001b[0m\u001b[0;34m(\u001b[0m\u001b[0mself\u001b[0m\u001b[0;34m,\u001b[0m \u001b[0mengine\u001b[0m\u001b[0;34m=\u001b[0m\u001b[0;34m'c'\u001b[0m\u001b[0;34m)\u001b[0m\u001b[0;34m:\u001b[0m\u001b[0;34m\u001b[0m\u001b[0m\n\u001b[1;32m    984\u001b[0m         \u001b[0;32mif\u001b[0m \u001b[0mengine\u001b[0m \u001b[0;34m==\u001b[0m \u001b[0;34m'c'\u001b[0m\u001b[0;34m:\u001b[0m\u001b[0;34m\u001b[0m\u001b[0m\n\u001b[0;32m--> 985\u001b[0;31m             \u001b[0mself\u001b[0m\u001b[0;34m.\u001b[0m\u001b[0m_engine\u001b[0m \u001b[0;34m=\u001b[0m \u001b[0mCParserWrapper\u001b[0m\u001b[0;34m(\u001b[0m\u001b[0mself\u001b[0m\u001b[0;34m.\u001b[0m\u001b[0mf\u001b[0m\u001b[0;34m,\u001b[0m \u001b[0;34m**\u001b[0m\u001b[0mself\u001b[0m\u001b[0;34m.\u001b[0m\u001b[0moptions\u001b[0m\u001b[0;34m)\u001b[0m\u001b[0;34m\u001b[0m\u001b[0m\n\u001b[0m\u001b[1;32m    986\u001b[0m         \u001b[0;32melse\u001b[0m\u001b[0;34m:\u001b[0m\u001b[0;34m\u001b[0m\u001b[0m\n\u001b[1;32m    987\u001b[0m             \u001b[0;32mif\u001b[0m \u001b[0mengine\u001b[0m \u001b[0;34m==\u001b[0m \u001b[0;34m'python'\u001b[0m\u001b[0;34m:\u001b[0m\u001b[0;34m\u001b[0m\u001b[0m\n",
      "\u001b[0;32m/Users/samuelasilber/anaconda2/lib/python2.7/site-packages/pandas/io/parsers.pyc\u001b[0m in \u001b[0;36m__init__\u001b[0;34m(self, src, **kwds)\u001b[0m\n\u001b[1;32m   1603\u001b[0m         \u001b[0mkwds\u001b[0m\u001b[0;34m[\u001b[0m\u001b[0;34m'allow_leading_cols'\u001b[0m\u001b[0;34m]\u001b[0m \u001b[0;34m=\u001b[0m \u001b[0mself\u001b[0m\u001b[0;34m.\u001b[0m\u001b[0mindex_col\u001b[0m \u001b[0;32mis\u001b[0m \u001b[0;32mnot\u001b[0m \u001b[0mFalse\u001b[0m\u001b[0;34m\u001b[0m\u001b[0m\n\u001b[1;32m   1604\u001b[0m \u001b[0;34m\u001b[0m\u001b[0m\n\u001b[0;32m-> 1605\u001b[0;31m         \u001b[0mself\u001b[0m\u001b[0;34m.\u001b[0m\u001b[0m_reader\u001b[0m \u001b[0;34m=\u001b[0m \u001b[0mparsers\u001b[0m\u001b[0;34m.\u001b[0m\u001b[0mTextReader\u001b[0m\u001b[0;34m(\u001b[0m\u001b[0msrc\u001b[0m\u001b[0;34m,\u001b[0m \u001b[0;34m**\u001b[0m\u001b[0mkwds\u001b[0m\u001b[0;34m)\u001b[0m\u001b[0;34m\u001b[0m\u001b[0m\n\u001b[0m\u001b[1;32m   1606\u001b[0m \u001b[0;34m\u001b[0m\u001b[0m\n\u001b[1;32m   1607\u001b[0m         \u001b[0;31m# XXX\u001b[0m\u001b[0;34m\u001b[0m\u001b[0;34m\u001b[0m\u001b[0m\n",
      "\u001b[0;32mpandas/_libs/parsers.pyx\u001b[0m in \u001b[0;36mpandas._libs.parsers.TextReader.__cinit__ (pandas/_libs/parsers.c:4209)\u001b[0;34m()\u001b[0m\n",
      "\u001b[0;32mpandas/_libs/parsers.pyx\u001b[0m in \u001b[0;36mpandas._libs.parsers.TextReader._setup_parser_source (pandas/_libs/parsers.c:8873)\u001b[0;34m()\u001b[0m\n",
      "\u001b[0;31mIOError\u001b[0m: File ../Assets/Iowa_Liquor_sample.csv does not exist"
     ]
    }
   ],
   "source": [
    "# Import, convert 'Date' col to datetime\n",
    "liquor=pd.read_csv('../Assets/Iowa_Liquor_sample.csv',parse_dates=['Date'],infer_datetime_format=True)\n",
    "liquor.columns"
   ]
  },
  {
   "cell_type": "code",
   "execution_count": null,
   "metadata": {
    "collapsed": true
   },
   "outputs": [],
   "source": [
    "# format column names\n",
    "import re\n",
    "\n",
    "liquor.columns = [re.sub(\"[^a-zA-Z]+\", \"\", x) for x in liquor.columns]"
   ]
  },
  {
   "cell_type": "code",
   "execution_count": null,
   "metadata": {
    "collapsed": true
   },
   "outputs": [],
   "source": [
    "# remove '$' in values and convert to numeric\n",
    "adjust_cols = ['StateBottleCost','StateBottleRetail','SaleDollars']\n",
    "\n",
    "for col in adjust_cols:\n",
    "    liquor[col] = pd.to_numeric(liquor[col].str.replace('$',''),errors='coerce')"
   ]
  },
  {
   "cell_type": "code",
   "execution_count": null,
   "metadata": {
    "collapsed": true
   },
   "outputs": [],
   "source": [
    "# drop null values\n",
    "liquor = liquor.dropna()"
   ]
  },
  {
   "cell_type": "markdown",
   "metadata": {},
   "source": [
    "### Split Data to Create a features and targets\n",
    "\n",
    "To make predictions, we need two sets of data:\n",
    "* Total full-year  sales for each store in 2015 (our target / y)\n",
    "* Data from Q1 2015 (will become our features / X)\n"
   ]
  },
  {
   "cell_type": "code",
   "execution_count": null,
   "metadata": {
    "collapsed": true
   },
   "outputs": [],
   "source": [
    "# Filter to only 2015\n",
    "liquor2015 = liquor[liquor.Date.dt.year==2015]\n",
    "\n",
    "# Calculate the sum of sales for each store in 2015 by grouping the full year data\n",
    "liquor2015_fy = liquor2015[[\"StoreNumber\", \"SaleDollars\"]]\n",
    "liquor2015_fy = liquor2015_fy.groupby(\"StoreNumber\", as_index=False).sum()\n",
    "\n",
    "# Filter to just Q1 data: \n",
    "liquor2015_q1 = liquor2015[liquor2015.Date.dt.quarter==1]"
   ]
  },
  {
   "cell_type": "markdown",
   "metadata": {},
   "source": [
    "### Feature Engineering and Selection\n",
    "\n"
   ]
  },
  {
   "cell_type": "code",
   "execution_count": null,
   "metadata": {},
   "outputs": [],
   "source": [
    "#Create profit variable\n",
    "liquor2015_q1[\"profit\"] = liquor2015_q1.StateBottleRetail - liquor2015_q1.StateBottleCost\n",
    "\n",
    "#Group by StoreNumber\n",
    "group = liquor2015_q1.groupby([\"StoreNumber\"], as_index=False)[\"SaleDollars\", \"VolumeSoldLiters\", \"profit\"].agg([\"sum\", \"mean\"])\n",
    "\n",
    "#Collapse and rename variables\n",
    "group.columns = ['_'.join(var).strip() for var in group.columns.values]\n",
    "group.columns = [var + \"_q1\" for var in group.columns.values]\n",
    "group.reset_index(inplace=True)\n",
    "\n",
    "# Dataframe of Q1 features\n",
    "liquor2015_q1_features = group[[\"StoreNumber\", \"SaleDollars_sum_q1\", \"VolumeSoldLiters_mean_q1\", \"profit_mean_q1\"]]\n",
    "\n",
    "# Combine Q1 Features with Full Year Target\n",
    "liquor2015_combined = liquor2015_fy.merge(liquor2015_q1_features, on=\"StoreNumber\")"
   ]
  },
  {
   "cell_type": "markdown",
   "metadata": {},
   "source": [
    "### Cross Validation\n"
   ]
  },
  {
   "cell_type": "code",
   "execution_count": null,
   "metadata": {
    "collapsed": true
   },
   "outputs": [],
   "source": [
    "# Step 1: Hold Out / Testing Data\n",
    "from sklearn.model_selection import train_test_split\n",
    "training_data,holdout = train_test_split(liquor2015_combined,shuffle=True,test_size=0.10,random_state=123)"
   ]
  },
  {
   "cell_type": "code",
   "execution_count": null,
   "metadata": {
    "collapsed": true
   },
   "outputs": [],
   "source": [
    "# Step 2: Kfolds\n",
    "from sklearn.cross_validation import KFold\n",
    "\n",
    "# Number of folds\n",
    "folds = 10\n",
    "\n",
    "# Number of rows in dataframe\n",
    "n = training_data.shape[0]\n",
    "\n",
    "kf = KFold(n, n_folds=folds, random_state=123)"
   ]
  },
  {
   "cell_type": "markdown",
   "metadata": {},
   "source": [
    "### Model Building - Linear Regression"
   ]
  },
  {
   "cell_type": "code",
   "execution_count": null,
   "metadata": {
    "collapsed": true
   },
   "outputs": [],
   "source": [
    "from sklearn.linear_model import LinearRegression\n",
    "from sklearn.metrics import mean_absolute_error,mean_squared_error,r2_score\n",
    "import numpy as np\n",
    "\n",
    "#select feature column names\n",
    "feature_cols = [\"SaleDollars_sum_q1\", \"VolumeSoldLiters_mean_q1\", \"profit_mean_q1\"]\n",
    "\n",
    "# define X (features) and y (target)\n",
    "X = training_data[feature_cols]\n",
    "y = training_data[\"SaleDollars\"]\n",
    "\n",
    "#Instantiate model\n",
    "lr = LinearRegression()"
   ]
  },
  {
   "cell_type": "code",
   "execution_count": null,
   "metadata": {},
   "outputs": [],
   "source": [
    "# Use K-Folds cross validation to train model\n",
    "# Create a blank list to store fold scores\n",
    "MSE_scores = []\n",
    "MAE_scores = []\n",
    "RMSE_scores = []\n",
    "R2_scores = []\n",
    "n = 1\n",
    "\n",
    "for train,test in kf:\n",
    "    # Set up training and testing sets\n",
    "    x_train = X.iloc[train]\n",
    "    x_test = X.iloc[test]\n",
    "    \n",
    "    y_train = y.iloc[train]\n",
    "    y_true = y.iloc[test]\n",
    "    \n",
    "    # Fit model on training x and training y\n",
    "    lr.fit(x_train,y_train)\n",
    "    \n",
    "    # Make Predictions\n",
    "    y_preds = lr.predict(x_test)\n",
    "\n",
    "    # Score predictions vs. true values using a variety of metrics\n",
    "    MSE_score = mean_squared_error(y_true, y_preds)\n",
    "    MAE_score = mean_absolute_error(y_true, y_preds)\n",
    "    RMSE_score = np.sqrt(mean_squared_error(y_true, y_preds))\n",
    "    R2_score = r2_score(y_true, y_preds)\n",
    "    \n",
    "    # Append scores \n",
    "    MSE_scores.append(MSE_score)\n",
    "    MAE_scores.append(MAE_score)\n",
    "    RMSE_scores.append(RMSE_score)\n",
    "    R2_scores.append(R2_score)\n",
    "    \n",
    "    print \"Fold\", n \n",
    "    print \"MSE:\", MSE_score    \n",
    "    print \"MAE:\", MAE_score\n",
    "    print \"RMSE:\", RMSE_score\n",
    "    print \"R2:\", R2_score\n",
    "    n +=1"
   ]
  },
  {
   "cell_type": "code",
   "execution_count": null,
   "metadata": {},
   "outputs": [],
   "source": [
    "print \"MSE:\", np.mean(MSE_scores)\n",
    "print \"MAE:\", np.mean(MAE_scores)\n",
    "print \"RMSE:\", np.mean(RMSE_scores)\n",
    "print \"R2:\", np.mean(R2_scores)"
   ]
  },
  {
   "cell_type": "code",
   "execution_count": null,
   "metadata": {},
   "outputs": [],
   "source": [
    "#Coefficients\n",
    "list(zip(feature_cols,lr.coef_))"
   ]
  },
  {
   "cell_type": "code",
   "execution_count": null,
   "metadata": {},
   "outputs": [],
   "source": [
    "#Intercept\n",
    "lr.intercept_"
   ]
  },
  {
   "cell_type": "markdown",
   "metadata": {},
   "source": [
    "### Test against hold-out set"
   ]
  },
  {
   "cell_type": "code",
   "execution_count": null,
   "metadata": {},
   "outputs": [],
   "source": [
    "features = [\"SaleDollars_sum_q1\", \"VolumeSoldLiters_mean_q1\", \"profit_mean_q1\"]\n",
    "\n",
    "X_train = training_data[features]\n",
    "y_train = training_data[\"SaleDollars\"]\n",
    "\n",
    "x_holdout = holdout[features]\n",
    "y_holdout = holdout[\"SaleDollars\"]\n",
    "\n",
    "\n",
    "#Instantiate and train linear model\n",
    "lr = LinearRegression()\n",
    "lr.fit(X_train, y_train)\n",
    "\n",
    "# Create predictions using holdout set (x_holdout)\n",
    "holdout_preds = lr.predict(x_holdout)\n",
    "\n",
    "#Scores\n",
    "MAE_score = mean_absolute_error(y_holdout, holdout_preds)\n",
    "MSE_score = mean_squared_error(y_holdout, holdout_preds)\n",
    "RMSE_score = np.sqrt(mean_squared_error(y_holdout, holdout_preds))\n",
    "R2_score = r2_score(y_holdout, holdout_preds)\n",
    "                     \n",
    "                     \n",
    "#Print Scores\n",
    "print \"MSE:\", np.mean(MSE_score)\n",
    "print \"MAE:\", np.mean(MAE_score)\n",
    "print \"RMSE:\", np.mean(RMSE_score)\n",
    "print \"R2:\", np.mean(R2_score)"
   ]
  },
  {
   "cell_type": "code",
   "execution_count": null,
   "metadata": {},
   "outputs": [],
   "source": [
    "#Regplot predictions vs observed  \n",
    "plot = sns.regplot(y_holdout, holdout_preds)\n",
    "plot.set_xlabel(\"Observed\")\n",
    "plot.set_ylabel(\"Estimated\")"
   ]
  },
  {
   "cell_type": "markdown",
   "metadata": {},
   "source": [
    "The model looks like it's predicting fairly accurately for stores that made less than $50,000 in 2015. After $50,000 the residuals are much larger and the model becomes slightly less accurate. It is obviously these larger observations that are driving up metrics like MSE/MAE/RMSE, but the overall fit looks pretty good!"
   ]
  },
  {
   "cell_type": "markdown",
   "metadata": {},
   "source": []
  },
  {
   "cell_type": "code",
   "execution_count": null,
   "metadata": {},
   "outputs": [],
   "source": [
    "#Residuals\n",
    "residuals = [est - obs for est, obs in zip(holdout_preds, y_holdout)]\n",
    "sns.distplot(residuals)\n"
   ]
  },
  {
   "cell_type": "markdown",
   "metadata": {},
   "source": [
    "Looks like the variance (i.e., random error) of the residuals is normally distributed. This means that our assumption of normality is correct."
   ]
  },
  {
   "cell_type": "markdown",
   "metadata": {},
   "source": []
  },
  {
   "cell_type": "markdown",
   "metadata": {},
   "source": [
    "### 2016 Prediction"
   ]
  },
  {
   "cell_type": "code",
   "execution_count": 3,
   "metadata": {},
   "outputs": [
    {
     "ename": "NameError",
     "evalue": "name 'liquor' is not defined",
     "output_type": "error",
     "traceback": [
      "\u001b[0;31m---------------------------------------------------------------------------\u001b[0m",
      "\u001b[0;31mNameError\u001b[0m                                 Traceback (most recent call last)",
      "\u001b[0;32m<ipython-input-3-34dfbdb30cfd>\u001b[0m in \u001b[0;36m<module>\u001b[0;34m()\u001b[0m\n\u001b[1;32m      1\u001b[0m \u001b[0;31m# Filter to 2016\u001b[0m\u001b[0;34m\u001b[0m\u001b[0;34m\u001b[0m\u001b[0m\n\u001b[0;32m----> 2\u001b[0;31m \u001b[0mliquor2016_fy\u001b[0m \u001b[0;34m=\u001b[0m \u001b[0mliquor\u001b[0m\u001b[0;34m[\u001b[0m\u001b[0mliquor\u001b[0m\u001b[0;34m.\u001b[0m\u001b[0mDate\u001b[0m\u001b[0;34m.\u001b[0m\u001b[0mdt\u001b[0m\u001b[0;34m.\u001b[0m\u001b[0myear\u001b[0m\u001b[0;34m==\u001b[0m\u001b[0;36m2016\u001b[0m\u001b[0;34m]\u001b[0m\u001b[0;34m\u001b[0m\u001b[0m\n\u001b[0m\u001b[1;32m      3\u001b[0m \u001b[0mliquor2016_q1\u001b[0m \u001b[0;34m=\u001b[0m \u001b[0mliquor2016\u001b[0m\u001b[0;34m[\u001b[0m\u001b[0mliquor\u001b[0m\u001b[0;34m.\u001b[0m\u001b[0mDate\u001b[0m\u001b[0;34m.\u001b[0m\u001b[0mdt\u001b[0m\u001b[0;34m.\u001b[0m\u001b[0mquarter\u001b[0m\u001b[0;34m==\u001b[0m\u001b[0;36m1\u001b[0m\u001b[0;34m]\u001b[0m\u001b[0;34m\u001b[0m\u001b[0m\n\u001b[1;32m      4\u001b[0m \u001b[0;34m\u001b[0m\u001b[0m\n\u001b[1;32m      5\u001b[0m \u001b[0;31m#Create profit variable\u001b[0m\u001b[0;34m\u001b[0m\u001b[0;34m\u001b[0m\u001b[0m\n",
      "\u001b[0;31mNameError\u001b[0m: name 'liquor' is not defined"
     ]
    }
   ],
   "source": [
    "# Filter to 2016\n",
    "liquor2016_fy = liquor[liquor.Date.dt.year==2016]\n",
    "liquor2016_q1 = liquor2016[liquor.Date.dt.quarter==1]\n",
    "\n",
    "#Create profit variable\n",
    "liquor2016_q1[\"profit\"] = liquor2016_q1.StateBottleRetail - liquor2016_q1.StateBottleCost\n",
    "\n",
    "#Group by StoreNumber\n",
    "group = liquor2016_q1.groupby([\"StoreNumber\"], as_index=False)[\"SaleDollars\", \"VolumeSoldLiters\", \"profit\"].agg([\"sum\", \"mean\"])\n",
    "\n",
    "#Collapse and rename variables\n",
    "group.columns = ['_'.join(var).strip() for var in group.columns.values]\n",
    "group.columns = [var + \"_q1\" for var in group.columns.values]\n",
    "group.reset_index(inplace=True)\n",
    "\n",
    "# Dataframe of Q1 features\n",
    "liquor2016_q1_features = group[[\"StoreNumber\", \"SaleDollars_sum_q1\", \"VolumeSoldLiters_mean_q1\", \"profit_mean_q1\"]]\n",
    "\n",
    "# Combine Q1 Features with Full Year Target\n",
    "liquor2016_combined = liquor2016_fy.merge(liquor2015_q1_features, on=\"StoreNumber\")\n"
   ]
  },
  {
   "cell_type": "code",
   "execution_count": 4,
   "metadata": {},
   "outputs": [
    {
     "ename": "NameError",
     "evalue": "name 'liquor' is not defined",
     "output_type": "error",
     "traceback": [
      "\u001b[0;31m---------------------------------------------------------------------------\u001b[0m",
      "\u001b[0;31mNameError\u001b[0m                                 Traceback (most recent call last)",
      "\u001b[0;32m<ipython-input-4-4237151b6007>\u001b[0m in \u001b[0;36m<module>\u001b[0;34m()\u001b[0m\n\u001b[1;32m      1\u001b[0m \u001b[0;31m# Filter to only 2016\u001b[0m\u001b[0;34m\u001b[0m\u001b[0;34m\u001b[0m\u001b[0m\n\u001b[0;32m----> 2\u001b[0;31m \u001b[0mliquor2016\u001b[0m \u001b[0;34m=\u001b[0m \u001b[0mliquor\u001b[0m\u001b[0;34m[\u001b[0m\u001b[0mliquor\u001b[0m\u001b[0;34m.\u001b[0m\u001b[0mDate\u001b[0m\u001b[0;34m.\u001b[0m\u001b[0mdt\u001b[0m\u001b[0;34m.\u001b[0m\u001b[0myear\u001b[0m\u001b[0;34m==\u001b[0m\u001b[0;36m2016\u001b[0m\u001b[0;34m]\u001b[0m\u001b[0;34m\u001b[0m\u001b[0m\n\u001b[0m\u001b[1;32m      3\u001b[0m \u001b[0;34m\u001b[0m\u001b[0m\n\u001b[1;32m      4\u001b[0m \u001b[0;31m# Filter to just Q1 data:\u001b[0m\u001b[0;34m\u001b[0m\u001b[0;34m\u001b[0m\u001b[0m\n\u001b[1;32m      5\u001b[0m \u001b[0mliquor2016_q1\u001b[0m \u001b[0;34m=\u001b[0m \u001b[0mliquor2016\u001b[0m\u001b[0;34m[\u001b[0m\u001b[0mliquor2016\u001b[0m\u001b[0;34m.\u001b[0m\u001b[0mDate\u001b[0m\u001b[0;34m.\u001b[0m\u001b[0mdt\u001b[0m\u001b[0;34m.\u001b[0m\u001b[0mquarter\u001b[0m\u001b[0;34m==\u001b[0m\u001b[0;36m1\u001b[0m\u001b[0;34m]\u001b[0m\u001b[0;34m\u001b[0m\u001b[0m\n",
      "\u001b[0;31mNameError\u001b[0m: name 'liquor' is not defined"
     ]
    }
   ],
   "source": [
    "# Filter to only 2016\n",
    "liquor2016 = liquor[liquor.Date.dt.year==2016]\n",
    "\n",
    "# Filter to just Q1 data: \n",
    "liquor2016_q1 = liquor2016[liquor2016.Date.dt.quarter==1]\n",
    "\n",
    "#Create profit variable\n",
    "liquor2016_q1[\"profit\"] = liquor2016_q1.StateBottleRetail - liquor2016_q1.StateBottleCost\n",
    "\n",
    "#Group by StoreNumber\n",
    "group = liquor2016_q1.groupby([\"StoreNumber\"])[\"SaleDollars\", \"VolumeSoldLiters\", \"profit\"].agg([\"sum\", \"mean\"])\n",
    "\n",
    "#Collapse and rename variables\n",
    "group.columns = ['_'.join(var).strip() for var in group.columns.values]\n",
    "group.columns = [var + \"_q1\" for var in group.columns.values]\n",
    "#group.reset_index(inplace=True)\n",
    "\n",
    "\n",
    "# #Dataframe of Q1 features\n",
    "liquor2016_q1_features = group[[\"SaleDollars_sum_q1\", \"VolumeSoldLiters_mean_q1\", \"profit_mean_q1\"]]\n",
    "\n",
    "#predict\n",
    "pred_2016 = lr.predict(liquor2016_q1_features)\n",
    "sum_2016 = pred_2016.sum()\n",
    "\n",
    "print \"Sales in 2016:\", sum_2016"
   ]
  },
  {
   "cell_type": "markdown",
   "metadata": {},
   "source": [
    "# Evaluation:"
   ]
  },
  {
   "cell_type": "markdown",
   "metadata": {},
   "source": [
    "The best set of features I found were Q1 sales, Q1 average profit, and Q1 average volume of liquor sold in liters. These features had some of the highest correlations with total Sales in dollars, and cross-validation confirmed their predictive value. I was happy with the results of the testing set, producing an average RMSE of 10128.46 and an average R-squared of 0.93.\n",
    "\n",
    "For the holdout set, the model had a higher R-squared (.95) than the average testing R-squared, though the error metrics were slightly higher across the board (RMSE of 10306.21). In this sense I'd say it performed slightly worse, only because the error metrics are those most tangible to the Iowa state tax board when projecting actual numbers for future sales.\n",
    "\n"
   ]
  },
  {
   "cell_type": "code",
   "execution_count": null,
   "metadata": {
    "collapsed": true
   },
   "outputs": [],
   "source": [
    "# Libraries\n",
    "from sklearn.linear_model import Lasso, Ridge\n",
    "from sklearn.grid_search import GridSearchCV"
   ]
  },
  {
   "cell_type": "code",
   "execution_count": null,
   "metadata": {
    "collapsed": true
   },
   "outputs": [],
   "source": [
    "# Instantiate models\n",
    "lr_ridge = Ridge(alpha=100)\n",
    "lr_lasso = Lasso()\n",
    "\n",
    "#Features and outcome to train on\n",
    "X = training_data[features]\n",
    "y = training_data[\"SaleDollars\"]\n",
    "\n",
    "lr_ridge.fit(X, y)\n",
    "lr_lasso.fit(X, y)\n",
    "\n",
    "#paramaters\n",
    "params = {'alpha':[0.2,1, 20, 10, 100000]}\n",
    "\n",
    "#GridSearch\n",
    "gs = GridSearchCV(lr_ridge,params,cv=5,scoring='neg_mean_squared_error')\n",
    "gs.fit(X,y)\n",
    "gs.grid_scores_\n",
    "lr_best = gs.best_estimator_\n",
    "lr_best\n",
    "\n",
    "ridge_preds = lr_ridge.predict(x_holdout)\n",
    "print \"MSE:\", mean_squared_error(y_holdout, ridge_preds)\n",
    "print \"MAE:\", mean_absolute_error(y_holdout, ridge_preds)\n",
    "print \"RMSE:\", np.sqrt(mean_squared_error(y_holdout, ridge_preds))\n",
    "print \"R2:\", r2_score(y_holdout, ridge_preds)"
   ]
  }
 ],
 "metadata": {
  "kernelspec": {
   "display_name": "Python 2",
   "language": "python",
   "name": "python2"
  },
  "language_info": {
   "codemirror_mode": {
    "name": "ipython",
    "version": 2
   },
   "file_extension": ".py",
   "mimetype": "text/x-python",
   "name": "python",
   "nbconvert_exporter": "python",
   "pygments_lexer": "ipython2",
   "version": "2.7.13"
  }
 },
 "nbformat": 4,
 "nbformat_minor": 2
}
